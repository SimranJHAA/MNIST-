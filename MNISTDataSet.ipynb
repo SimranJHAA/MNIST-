{
  "cells": [
    {
      "cell_type": "markdown",
      "metadata": {
        "id": "view-in-github",
        "colab_type": "text"
      },
      "source": [
        "<a href=\"https://colab.research.google.com/github/SimranJHAA/MNIST-/blob/main/MNISTDataSet.ipynb\" target=\"_parent\"><img src=\"https://colab.research.google.com/assets/colab-badge.svg\" alt=\"Open In Colab\"/></a>"
      ]
    },
    {
      "cell_type": "markdown",
      "metadata": {
        "id": "ERu5jKV8Twot"
      },
      "source": [
        "DATA LOADING"
      ]
    },
    {
      "cell_type": "code",
      "execution_count": null,
      "metadata": {
        "id": "JCzCWSYxLIRR",
        "colab": {
          "base_uri": "https://localhost:8080/"
        },
        "outputId": "05f37cd7-62fe-4b74-fd51-ce5ed01b9003"
      },
      "outputs": [
        {
          "output_type": "stream",
          "name": "stdout",
          "text": [
            "Downloading http://yann.lecun.com/exdb/mnist/train-images-idx3-ubyte.gz\n",
            "Failed to download (trying next):\n",
            "HTTP Error 403: Forbidden\n",
            "\n",
            "Downloading https://ossci-datasets.s3.amazonaws.com/mnist/train-images-idx3-ubyte.gz\n",
            "Downloading https://ossci-datasets.s3.amazonaws.com/mnist/train-images-idx3-ubyte.gz to ./data/MNIST/raw/train-images-idx3-ubyte.gz\n"
          ]
        },
        {
          "output_type": "stream",
          "name": "stderr",
          "text": [
            "100%|██████████| 9912422/9912422 [00:00<00:00, 17694864.15it/s]\n"
          ]
        },
        {
          "output_type": "stream",
          "name": "stdout",
          "text": [
            "Extracting ./data/MNIST/raw/train-images-idx3-ubyte.gz to ./data/MNIST/raw\n",
            "\n",
            "Downloading http://yann.lecun.com/exdb/mnist/train-labels-idx1-ubyte.gz\n",
            "Failed to download (trying next):\n",
            "HTTP Error 403: Forbidden\n",
            "\n",
            "Downloading https://ossci-datasets.s3.amazonaws.com/mnist/train-labels-idx1-ubyte.gz\n",
            "Downloading https://ossci-datasets.s3.amazonaws.com/mnist/train-labels-idx1-ubyte.gz to ./data/MNIST/raw/train-labels-idx1-ubyte.gz\n"
          ]
        },
        {
          "output_type": "stream",
          "name": "stderr",
          "text": [
            "100%|██████████| 28881/28881 [00:00<00:00, 550019.27it/s]\n"
          ]
        },
        {
          "output_type": "stream",
          "name": "stdout",
          "text": [
            "Extracting ./data/MNIST/raw/train-labels-idx1-ubyte.gz to ./data/MNIST/raw\n",
            "\n",
            "Downloading http://yann.lecun.com/exdb/mnist/t10k-images-idx3-ubyte.gz\n",
            "Failed to download (trying next):\n",
            "HTTP Error 403: Forbidden\n",
            "\n",
            "Downloading https://ossci-datasets.s3.amazonaws.com/mnist/t10k-images-idx3-ubyte.gz\n",
            "Downloading https://ossci-datasets.s3.amazonaws.com/mnist/t10k-images-idx3-ubyte.gz to ./data/MNIST/raw/t10k-images-idx3-ubyte.gz\n"
          ]
        },
        {
          "output_type": "stream",
          "name": "stderr",
          "text": [
            "100%|██████████| 1648877/1648877 [00:00<00:00, 2648424.34it/s]\n"
          ]
        },
        {
          "output_type": "stream",
          "name": "stdout",
          "text": [
            "Extracting ./data/MNIST/raw/t10k-images-idx3-ubyte.gz to ./data/MNIST/raw\n",
            "\n",
            "Downloading http://yann.lecun.com/exdb/mnist/t10k-labels-idx1-ubyte.gz\n",
            "Failed to download (trying next):\n",
            "HTTP Error 403: Forbidden\n",
            "\n",
            "Downloading https://ossci-datasets.s3.amazonaws.com/mnist/t10k-labels-idx1-ubyte.gz\n",
            "Downloading https://ossci-datasets.s3.amazonaws.com/mnist/t10k-labels-idx1-ubyte.gz to ./data/MNIST/raw/t10k-labels-idx1-ubyte.gz\n"
          ]
        },
        {
          "output_type": "stream",
          "name": "stderr",
          "text": [
            "100%|██████████| 4542/4542 [00:00<00:00, 8592931.33it/s]\n"
          ]
        },
        {
          "output_type": "stream",
          "name": "stdout",
          "text": [
            "Extracting ./data/MNIST/raw/t10k-labels-idx1-ubyte.gz to ./data/MNIST/raw\n",
            "\n"
          ]
        }
      ],
      "source": [
        "#Importing necessary modules\n",
        "import torch\n",
        "import torch.nn as nn\n",
        "import torch.optim as optim\n",
        "import torchvision\n",
        "import torchvision.transforms as transforms\n",
        "from torch.utils.data import DataLoader, random_split\n",
        "\n",
        "# Transformations for the training set and the test set\n",
        "transform = transforms.Compose([transforms.ToTensor(), transforms.Normalize((0.5,), (0.5,))])\n",
        "\n",
        "# Download + load training + test datasets\n",
        "train_set = torchvision.datasets.MNIST(root='./data', train=True, download=True, transform=transform)\n",
        "test_set = torchvision.datasets.MNIST(root='./data', train=False, download=True, transform=transform)\n",
        "\n",
        "# Data loaders\n",
        "train_loader = DataLoader(train_set, batch_size=64, shuffle=True)\n",
        "test_loader = DataLoader(test_set, batch_size=64, shuffle=False)\n"
      ]
    },
    {
      "cell_type": "markdown",
      "source": [
        "OBSERVING THE DATA FEATURES"
      ],
      "metadata": {
        "id": "iRk37InVghUR"
      }
    },
    {
      "cell_type": "code",
      "source": [
        "print(train_set)"
      ],
      "metadata": {
        "colab": {
          "base_uri": "https://localhost:8080/"
        },
        "id": "J543rHwbcSjn",
        "outputId": "8d41cd03-7478-460f-b0fe-1fafc9ed6eab"
      },
      "execution_count": null,
      "outputs": [
        {
          "output_type": "stream",
          "name": "stdout",
          "text": [
            "Dataset MNIST\n",
            "    Number of datapoints: 60000\n",
            "    Root location: ./data\n",
            "    Split: Train\n",
            "    StandardTransform\n",
            "Transform: Compose(\n",
            "               ToTensor()\n",
            "               Normalize(mean=(0.5,), std=(0.5,))\n",
            "           )\n"
          ]
        }
      ]
    },
    {
      "cell_type": "code",
      "source": [
        "print(test_set)"
      ],
      "metadata": {
        "colab": {
          "base_uri": "https://localhost:8080/"
        },
        "id": "MRr1jrt2fomD",
        "outputId": "60c8204c-9c6d-4de1-a02d-b32d9f776793"
      },
      "execution_count": null,
      "outputs": [
        {
          "output_type": "stream",
          "name": "stdout",
          "text": [
            "Dataset MNIST\n",
            "    Number of datapoints: 10000\n",
            "    Root location: ./data\n",
            "    Split: Test\n",
            "    StandardTransform\n",
            "Transform: Compose(\n",
            "               ToTensor()\n",
            "               Normalize(mean=(0.5,), std=(0.5,))\n",
            "           )\n"
          ]
        }
      ]
    },
    {
      "cell_type": "code",
      "source": [
        "print(train_set.data.size())\n",
        "print(train_set.targets.size())"
      ],
      "metadata": {
        "colab": {
          "base_uri": "https://localhost:8080/"
        },
        "id": "4JJfEQYxf-YA",
        "outputId": "c92d0897-6a7d-4a00-bfbf-08f9ac536a46"
      },
      "execution_count": null,
      "outputs": [
        {
          "output_type": "stream",
          "name": "stdout",
          "text": [
            "torch.Size([60000, 28, 28])\n",
            "torch.Size([60000])\n"
          ]
        }
      ]
    },
    {
      "cell_type": "markdown",
      "source": [
        "VISUALISING IMAGE"
      ],
      "metadata": {
        "id": "1DUXlupogo5J"
      }
    },
    {
      "cell_type": "code",
      "source": [
        "#Printing image\n",
        "i=int(input(\"enter the image number you want to see : \"))\n",
        "import matplotlib.pyplot as plt\n",
        "plt.imshow(train_set.data[i], cmap='gray')\n",
        "plt.title('%i' % train_set.targets[i])\n",
        "plt.show()"
      ],
      "metadata": {
        "id": "FOTlyMwygfNn",
        "colab": {
          "base_uri": "https://localhost:8080/",
          "height": 469
        },
        "outputId": "d8bd25a3-7b64-4162-8fa1-c0c8c6126c0c"
      },
      "execution_count": null,
      "outputs": [
        {
          "name": "stdout",
          "output_type": "stream",
          "text": [
            "enter the image number you want to see : 9\n"
          ]
        },
        {
          "output_type": "display_data",
          "data": {
            "text/plain": [
              "<Figure size 640x480 with 1 Axes>"
            ],
            "image/png": "[encoded data removed]"
          },
          "metadata": {}
        }
      ]
    },
    {
      "cell_type": "markdown",
      "metadata": {
        "id": "awGjJqzyTvsa"
      },
      "source": []
    },
    {
      "cell_type": "markdown",
      "source": [
        "MODEL 1 (FCNN/FULLY CONNECTED NEURAL NETWORK)"
      ],
      "metadata": {
        "id": "x2VvhytRhbhI"
      }
    },
    {
      "cell_type": "code",
      "execution_count": null,
      "metadata": {
        "id": "h2P46cjeLNIG"
      },
      "outputs": [],
      "source": [
        "class FCNN(nn.Module):\n",
        "    def __init__(self):\n",
        "        super(FCNN, self).__init__()\n",
        "        # Define the fully connected layers\n",
        "        self.fc1 = nn.Linear(28*28, 512)  # Input: 784 (28*28), Output: 512\n",
        "        self.fc2 = nn.Linear(512, 256)    # Input: 512, Output: 256\n",
        "        self.fc3 = nn.Linear(256, 10)     # Input: 256, Output: 10 (number of classes)\n",
        "\n",
        "    def forward(self, x):\n",
        "        x = x.view(-1, 28*28)             # Flattening\n",
        "        x = torch.relu(self.fc1(x))       # ReLU activation\n",
        "        x = torch.relu(self.fc2(x))       # ReLU activation\n",
        "        x = self.fc3(x)                   # Output layer\n",
        "        return x\n"
      ]
    },
    {
      "cell_type": "markdown",
      "source": [
        "MODEL 2 (ConvFCNN/CONVOLUTIONAL NEURAL NETWORK+FULLY CONNECTED NEURAL NETWORK)"
      ],
      "metadata": {
        "id": "uCi7iG2XhjFI"
      }
    },
    {
      "cell_type": "code",
      "execution_count": null,
      "metadata": {
        "id": "djiY6gZWLO9d"
      },
      "outputs": [],
      "source": [
        "class ConvFCNN(nn.Module):\n",
        "    def __init__(self):\n",
        "        super(ConvFCNN, self).__init__()\n",
        "        # 1st convolutional layer\n",
        "        self.conv1 = nn.Conv2d(1, 32, kernel_size=3, stride=1, padding=1)  # Input: 1 channel, Output: 32 channels\n",
        "        # 2nd convolutional layer\n",
        "        self.conv2 = nn.Conv2d(32, 64, kernel_size=3, stride=1, padding=1) # Input: 32 channels, Output: 64 channels\n",
        "        # Fully connected layer\n",
        "        self.fc1 = nn.Linear(64*7*7, 128)  # Input: 64*7*7 (after pooling), Output: 128\n",
        "        # Output layer\n",
        "        self.fc2 = nn.Linear(128, 10)      # Input: 128, Output: 10 (number of classes)\n",
        "        # Max-pooling layer\n",
        "        self.pool = nn.MaxPool2d(kernel_size=2, stride=2, padding=0)       # Reduces each dimension\n",
        "\n",
        "    def forward(self, x):\n",
        "        x = self.pool(torch.relu(self.conv1(x))) # 1st convolutional layer + ReLU + pooling\n",
        "        x = self.pool(torch.relu(self.conv2(x))) # 2nd convolutional layer +ReLU + pooling\n",
        "        x = x.view(-1, 64*7*7)                  # Flattening layer\n",
        "        x = torch.relu(self.fc1(x))             # ReLU activation function\n",
        "        x = self.fc2(x)                         # Output layer\n",
        "        return x\n"
      ]
    },
    {
      "cell_type": "markdown",
      "source": [
        "MODEL 3 (CNN/CONVOLUTIONAL NEURAL NETWORK)"
      ],
      "metadata": {
        "id": "hZ8tmjsph0yN"
      }
    },
    {
      "cell_type": "code",
      "execution_count": null,
      "metadata": {
        "id": "GzSy3XfVLRuG"
      },
      "outputs": [],
      "source": [
        "class ConvOnly(nn.Module):\n",
        "    def __init__(self):\n",
        "        super(ConvOnly, self).__init__()\n",
        "        # 1st convolutional layer\n",
        "        self.conv1 = nn.Conv2d(1, 32, kernel_size=3, stride=1, padding=1)  # Input: 1 channel, Output: 32 channels\n",
        "        # 2nd convolutional layer\n",
        "        self.conv2 = nn.Conv2d(32, 64, kernel_size=3, stride=1, padding=1) # Input: 32 channels, Output: 64 channels\n",
        "        # 3rd third convolutional layer\n",
        "        self.conv3 = nn.Conv2d(64, 128, kernel_size=3, stride=1, padding=1) # Input: 64 channels, Output: 128 channels\n",
        "        # Max-pooling layer\n",
        "        self.pool = nn.MaxPool2d(kernel_size=2, stride=2, padding=0)       # Reduces each dimension by a factor of 2\n",
        "        # Global average pooling layer\n",
        "        self.global_avg_pool = nn.AdaptiveAvgPool2d((1, 1))                # Output: 128 channels with 1x1 dimensions\n",
        "\n",
        "    def forward(self, x):\n",
        "        x = self.pool(torch.relu(self.conv1(x))) # 1st convolutional layer + ReLU + pooling\n",
        "        x = self.pool(torch.relu(self.conv2(x))) # 2nd convolutional layer + ReLU + pooling\n",
        "        x = torch.relu(self.conv3(x))            # 3rd convolutional layer + ReLU\n",
        "        x = self.global_avg_pool(x)              # Apply global average pooling\n",
        "        x = x.view(-1, 128)                      # Flatten the output\n",
        "        return x\n"
      ]
    },
    {
      "cell_type": "markdown",
      "source": [
        "TRAINING"
      ],
      "metadata": {
        "id": "bA8vfZ3YiATo"
      }
    },
    {
      "cell_type": "code",
      "execution_count": null,
      "metadata": {
        "colab": {
          "base_uri": "https://localhost:8080/"
        },
        "id": "OPE4iRNnLTdW",
        "outputId": "e25ab845-f1d1-4285-b569-7e6da1fc63b5"
      },
      "outputs": [
        {
          "output_type": "stream",
          "name": "stdout",
          "text": [
            "Training Model 1 (FCNN):\n",
            "Epoch [1/5], Loss: 0.3903\n",
            "Epoch [2/5], Loss: 0.1514\n",
            "Epoch [3/5], Loss: 0.1085\n",
            "Epoch [4/5], Loss: 0.0851\n",
            "Epoch [5/5], Loss: 0.0705\n",
            "Training Model 2 (ConvFCNN):\n",
            "Epoch [1/5], Loss: 0.2414\n",
            "Epoch [2/5], Loss: 0.0542\n",
            "Epoch [3/5], Loss: 0.0372\n",
            "Epoch [4/5], Loss: 0.0288\n",
            "Epoch [5/5], Loss: 0.0224\n",
            "Training Model 3 (ConvOnly):\n",
            "Epoch [1/5], Loss: 1.4026\n",
            "Epoch [2/5], Loss: 0.3636\n",
            "Epoch [3/5], Loss: 0.2253\n",
            "Epoch [4/5], Loss: 0.1717\n",
            "Epoch [5/5], Loss: 0.1445\n"
          ]
        }
      ],
      "source": [
        "def train_model(model, train_loader, criterion, optimizer, num_epochs=5):\n",
        "    for epoch in range(num_epochs):\n",
        "        running_loss = 0.0\n",
        "        for images, labels in train_loader:\n",
        "            # Zero the parameter gradients\n",
        "            optimizer.zero_grad()\n",
        "            # Forward pass\n",
        "            outputs = model(images)\n",
        "            loss = criterion(outputs, labels)\n",
        "            # Backward pass and optimization\n",
        "            loss.backward()\n",
        "            optimizer.step()\n",
        "            running_loss += loss.item()\n",
        "        print(f\"Epoch [{epoch + 1}/{num_epochs}], Loss: {running_loss / len(train_loader):.4f}\")\n",
        "\n",
        "# Instantiate the models, define the loss function and the optimizer\n",
        "model1 = FCNN()\n",
        "model2 = ConvFCNN()\n",
        "model3 = ConvOnly()\n",
        "\n",
        "criterion = nn.CrossEntropyLoss()\n",
        "optimizer1 = optim.SGD(model1.parameters(), lr=0.01, momentum=0.9)\n",
        "optimizer2 = optim.SGD(model2.parameters(), lr=0.01, momentum=0.9)\n",
        "optimizer3 = optim.SGD(model3.parameters(), lr=0.01, momentum=0.9)\n",
        "\n",
        "# Train the models\n",
        "print(\"Training Model 1 (FCNN):\")\n",
        "train_model(model1, train_loader, criterion, optimizer1)\n",
        "\n",
        "print(\"Training Model 2 (ConvFCNN):\")\n",
        "train_model(model2, train_loader, criterion, optimizer2)\n",
        "\n",
        "print(\"Training Model 3 (ConvOnly):\")\n",
        "train_model(model3, train_loader, criterion, optimizer3)\n"
      ]
    },
    {
      "cell_type": "markdown",
      "source": [
        "SAVING THE MODELS"
      ],
      "metadata": {
        "id": "-6oDS-55iJhC"
      }
    },
    {
      "cell_type": "code",
      "execution_count": null,
      "metadata": {
        "colab": {
          "base_uri": "https://localhost:8080/"
        },
        "id": "wI2qePwGLbp3",
        "outputId": "9bd26a68-48a4-411d-b4bd-b56cd7a46fb3"
      },
      "outputs": [
        {
          "output_type": "stream",
          "name": "stdout",
          "text": [
            "Fine-tuning Model 1 (FCNN):\n",
            "Epoch [1/2], Loss: 0.0579\n",
            "Epoch [2/2], Loss: 0.0489\n",
            "Fine-tuning Model 2 (ConvFCNN):\n",
            "Epoch [1/2], Loss: 0.0176\n",
            "Epoch [2/2], Loss: 0.0145\n",
            "Fine-tuning Model 3 (ConvOnly):\n",
            "Epoch [1/2], Loss: 0.1256\n",
            "Epoch [2/2], Loss: 0.1122\n"
          ]
        }
      ],
      "source": [
        "# Save the models\n",
        "torch.save(model1.state_dict(), 'model1.pth')\n",
        "torch.save(model2.state_dict(), 'model2.pth')\n",
        "torch.save(model3.state_dict(), 'model3.pth')\n",
        "\n",
        "# Function to load a saved model and perform fine-tuning\n",
        "def load_and_finetune(model, model_path, train_loader, criterion, optimizer, num_epochs=2):\n",
        "    model.load_state_dict(torch.load(model_path))\n",
        "    model.train()  # Set the model to training mode\n",
        "    train_model(model, train_loader, criterion, optimizer, num_epochs)\n",
        "\n",
        "# Fine-tune the models\n",
        "print(\"Fine-tuning Model 1 (FCNN):\")\n",
        "load_and_finetune(model1, 'model1.pth', train_loader, criterion, optimizer1)\n",
        "\n",
        "print(\"Fine-tuning Model 2 (ConvFCNN):\")\n",
        "load_and_finetune(model2, 'model2.pth', train_loader, criterion, optimizer2)\n",
        "\n",
        "print(\"Fine-tuning Model 3 (ConvOnly):\")\n",
        "load_and_finetune(model3, 'model3.pth', train_loader, criterion, optimizer3)\n"
      ]
    },
    {
      "cell_type": "code",
      "execution_count": null,
      "metadata": {
        "id": "6XAalEc0LkNm"
      },
      "outputs": [],
      "source": [
        "from sklearn.model_selection import KFold\n",
        "\n",
        "def k_fold_cross_validation(model_class, dataset, k=5, num_epochs=5):\n",
        "    kfold = KFold(n_splits=k, shuffle=True)\n",
        "    results = []\n",
        "\n",
        "    for fold, (train_ids, val_ids) in enumerate(kfold.split(dataset)):\n",
        "        print(f'FOLD {fold}')\n",
        "        print('--------------------------------')\n",
        "\n",
        "        # Sample elements randomly from a given list of ids, no replacement.\n",
        "        train_subsampler = torch.utils.data.SubsetRandomSampler(train_ids)\n",
        "        val_subsampler = torch.utils.data.SubsetRandomSampler(val_ids)\n",
        "\n",
        "        # Define data loaders for training and validation\n",
        "        trainloader = torch.utils.data.DataLoader(dataset, batch_size=64, sampler=train_subsampler)\n",
        "        valloader = torch.utils.data.DataLoader(dataset, batch_size=64, sampler=val_subsampler)\n",
        "\n",
        "        # Initialize model\n",
        "        model = model_class()\n",
        "        optimizer = optim.SGD(model.parameters(), lr=0.01, momentum=0.9)\n",
        "        criterion = nn.CrossEntropyLoss()\n",
        "\n",
        "\n"
      ]
    },
    {
      "cell_type": "markdown",
      "source": [
        "APPLYING K FOLD AND CHECKING ACCURACY"
      ],
      "metadata": {
        "id": "EF7VbZ-SjKKN"
      }
    },
    {
      "cell_type": "code",
      "execution_count": null,
      "metadata": {
        "colab": {
          "base_uri": "https://localhost:8080/"
        },
        "id": "oHwGE0NISFoH",
        "outputId": "8d65df18-1c81-48b0-d118-d14a7e4942c6"
      },
      "outputs": [
        {
          "output_type": "stream",
          "name": "stdout",
          "text": [
            "K-Fold Cross Validation for Model 1 (FCNN):\n",
            "FOLD 0\n",
            "--------------------------------\n",
            "Epoch [1/5], Loss: 0.4329\n",
            "Epoch [2/5], Loss: 0.1753\n",
            "Epoch [3/5], Loss: 0.1230\n",
            "Epoch [4/5], Loss: 0.0944\n",
            "Epoch [5/5], Loss: 0.0770\n",
            "Accuracy for fold 0: 97.03%\n",
            "FOLD 1\n",
            "--------------------------------\n",
            "Epoch [1/5], Loss: 0.4332\n",
            "Epoch [2/5], Loss: 0.1762\n",
            "Epoch [3/5], Loss: 0.1228\n",
            "Epoch [4/5], Loss: 0.0956\n",
            "Epoch [5/5], Loss: 0.0786\n",
            "Accuracy for fold 1: 97.24%\n",
            "FOLD 2\n",
            "--------------------------------\n",
            "Epoch [1/5], Loss: 0.4321\n",
            "Epoch [2/5], Loss: 0.1767\n",
            "Epoch [3/5], Loss: 0.1237\n",
            "Epoch [4/5], Loss: 0.0971\n",
            "Epoch [5/5], Loss: 0.0766\n",
            "Accuracy for fold 2: 97.36%\n",
            "FOLD 3\n",
            "--------------------------------\n",
            "Epoch [1/5], Loss: 0.4428\n",
            "Epoch [2/5], Loss: 0.1824\n",
            "Epoch [3/5], Loss: 0.1221\n",
            "Epoch [4/5], Loss: 0.0956\n",
            "Epoch [5/5], Loss: 0.0794\n",
            "Accuracy for fold 3: 96.83%\n",
            "FOLD 4\n",
            "--------------------------------\n",
            "Epoch [1/5], Loss: 0.4285\n",
            "Epoch [2/5], Loss: 0.1768\n",
            "Epoch [3/5], Loss: 0.1233\n",
            "Epoch [4/5], Loss: 0.0948\n",
            "Epoch [5/5], Loss: 0.0773\n",
            "Accuracy for fold 4: 96.63%\n",
            "Average accuracy across 5 folds: 97.02%\n",
            "K-Fold Cross Validation for Model 2 (ConvFCNN):\n",
            "FOLD 0\n",
            "--------------------------------\n",
            "Epoch [1/5], Loss: 0.2827\n",
            "Epoch [2/5], Loss: 0.0596\n",
            "Epoch [3/5], Loss: 0.0413\n",
            "Epoch [4/5], Loss: 0.0317\n",
            "Epoch [5/5], Loss: 0.0249\n",
            "Accuracy for fold 0: 98.76%\n",
            "FOLD 1\n",
            "--------------------------------\n",
            "Epoch [1/5], Loss: 0.2961\n",
            "Epoch [2/5], Loss: 0.0630\n",
            "Epoch [3/5], Loss: 0.0421\n",
            "Epoch [4/5], Loss: 0.0320\n",
            "Epoch [5/5], Loss: 0.0250\n",
            "Accuracy for fold 1: 99.01%\n",
            "FOLD 2\n",
            "--------------------------------\n",
            "Epoch [1/5], Loss: 0.2802\n",
            "Epoch [2/5], Loss: 0.0588\n",
            "Epoch [3/5], Loss: 0.0410\n",
            "Epoch [4/5], Loss: 0.0317\n",
            "Epoch [5/5], Loss: 0.0237\n",
            "Accuracy for fold 2: 98.74%\n",
            "FOLD 3\n",
            "--------------------------------\n",
            "Epoch [1/5], Loss: 0.2684\n",
            "Epoch [2/5], Loss: 0.0607\n",
            "Epoch [3/5], Loss: 0.0405\n",
            "Epoch [4/5], Loss: 0.0307\n",
            "Epoch [5/5], Loss: 0.0249\n",
            "Accuracy for fold 3: 98.91%\n",
            "FOLD 4\n",
            "--------------------------------\n",
            "Epoch [1/5], Loss: 0.2909\n",
            "Epoch [2/5], Loss: 0.0613\n",
            "Epoch [3/5], Loss: 0.0436\n",
            "Epoch [4/5], Loss: 0.0313\n",
            "Epoch [5/5], Loss: 0.0249\n",
            "Accuracy for fold 4: 98.78%\n",
            "Average accuracy across 5 folds: 98.84%\n",
            "K-Fold Cross Validation for Model 3 (ConvOnly):\n",
            "FOLD 0\n",
            "--------------------------------\n",
            "Epoch [1/5], Loss: 1.4859\n",
            "Epoch [2/5], Loss: 0.4688\n",
            "Epoch [3/5], Loss: 0.2804\n",
            "Epoch [4/5], Loss: 0.2086\n",
            "Epoch [5/5], Loss: 0.1675\n",
            "Accuracy for fold 0: 93.08%\n",
            "FOLD 1\n",
            "--------------------------------\n",
            "Epoch [1/5], Loss: 1.4864\n",
            "Epoch [2/5], Loss: 0.4552\n",
            "Epoch [3/5], Loss: 0.2766\n",
            "Epoch [4/5], Loss: 0.2161\n",
            "Epoch [5/5], Loss: 0.1767\n",
            "Accuracy for fold 1: 95.12%\n",
            "FOLD 2\n",
            "--------------------------------\n",
            "Epoch [1/5], Loss: 1.3913\n",
            "Epoch [2/5], Loss: 0.4332\n",
            "Epoch [3/5], Loss: 0.2620\n",
            "Epoch [4/5], Loss: 0.2031\n",
            "Epoch [5/5], Loss: 0.1690\n",
            "Accuracy for fold 2: 95.31%\n",
            "FOLD 3\n",
            "--------------------------------\n",
            "Epoch [1/5], Loss: 1.4733\n",
            "Epoch [2/5], Loss: 0.4623\n",
            "Epoch [3/5], Loss: 0.2737\n",
            "Epoch [4/5], Loss: 0.2071\n",
            "Epoch [5/5], Loss: 0.1704\n",
            "Accuracy for fold 3: 95.38%\n",
            "FOLD 4\n",
            "--------------------------------\n",
            "Epoch [1/5], Loss: 1.4228\n",
            "Epoch [2/5], Loss: 0.4504\n",
            "Epoch [3/5], Loss: 0.2759\n",
            "Epoch [4/5], Loss: 0.2166\n",
            "Epoch [5/5], Loss: 0.1725\n",
            "Accuracy for fold 4: 95.75%\n",
            "Average accuracy across 5 folds: 94.93%\n"
          ]
        }
      ],
      "source": [
        "from torch.utils.data import DataLoader, random_split, SubsetRandomSampler\n",
        "import numpy as np\n",
        "def evaluate_model(model, data_loader):\n",
        "    correct = 0\n",
        "    total = 0\n",
        "    model.eval()  # Set the model to evaluation mode\n",
        "    with torch.no_grad():  # Disable gradient calculation\n",
        "        for images, labels in data_loader:\n",
        "            outputs = model(images)\n",
        "            _, predicted = torch.max(outputs.data, 1)\n",
        "            total += labels.size(0)\n",
        "            correct += (predicted == labels).sum().item()\n",
        "    accuracy = 100 * correct / total\n",
        "    model.train()  # Set the model back to training mode\n",
        "    return accuracy\n",
        "\n",
        "def k_fold_cross_validation(model_class, dataset, k=5, num_epochs=5):\n",
        "    kfold = KFold(n_splits=k, shuffle=True)\n",
        "    results = []\n",
        "\n",
        "    for fold, (train_ids, val_ids) in enumerate(kfold.split(dataset)):\n",
        "        print(f'FOLD {fold}')\n",
        "        print('--------------------------------')\n",
        "\n",
        "        # Sample elements randomly from a given list of ids, no replacement.\n",
        "        train_subsampler = SubsetRandomSampler(train_ids)\n",
        "        val_subsampler = SubsetRandomSampler(val_ids)\n",
        "\n",
        "        # Define data loaders for training and validation\n",
        "        trainloader = DataLoader(dataset, batch_size=64, sampler=train_subsampler)\n",
        "        valloader = DataLoader(dataset, batch_size=64, sampler=val_subsampler)\n",
        "\n",
        "        # Initialize model\n",
        "        model = model_class()\n",
        "        optimizer = optim.SGD(model.parameters(), lr=0.01, momentum=0.9)\n",
        "        criterion = nn.CrossEntropyLoss()\n",
        "\n",
        "        # Train the model\n",
        "        train_model(model, trainloader, criterion, optimizer, num_epochs)\n",
        "\n",
        "        # Evaluate the model\n",
        "        accuracy = evaluate_model(model, valloader)\n",
        "        print(f'Accuracy for fold {fold}: {accuracy:.2f}%')\n",
        "        results.append(accuracy)\n",
        "\n",
        "    avg_accuracy = np.mean(results)\n",
        "    print(f'Average accuracy across {k} folds: {avg_accuracy:.2f}%')\n",
        "    return avg_accuracy\n",
        "\n",
        "# Perform K-Fold Cross Validation for each model\n",
        "\n",
        "print(\"K-Fold Cross Validation for Model 1 (FCNN):\")\n",
        "fcnn_accuracy = k_fold_cross_validation(FCNN, train_set)\n",
        "\n",
        "print(\"K-Fold Cross Validation for Model 2 (ConvFCNN):\")\n",
        "convfcnn_accuracy = k_fold_cross_validation(ConvFCNN, train_set)\n",
        "\n",
        "print(\"K-Fold Cross Validation for Model 3 (ConvOnly):\")\n",
        "convonly_accuracy = k_fold_cross_validation(ConvOnly, train_set)\n"
      ]
    },
    {
      "cell_type": "markdown",
      "source": [
        "EVALUATION\n",
        "\n"
      ],
      "metadata": {
        "id": "9rzJ1ORFiUR7"
      }
    },
    {
      "cell_type": "code",
      "execution_count": null,
      "metadata": {
        "id": "vFTEi0JFLrF3",
        "colab": {
          "base_uri": "https://localhost:8080/"
        },
        "outputId": "fab4da40-158c-4113-e260-2a02fbc966bb"
      },
      "outputs": [
        {
          "output_type": "stream",
          "name": "stdout",
          "text": [
            "Final Evaluation on Test Set\n",
            "Model 1 (FCNN):\n",
            "Epoch [1/5], Loss: 0.3895\n",
            "Epoch [2/5], Loss: 0.1518\n",
            "Epoch [3/5], Loss: 0.1070\n",
            "Epoch [4/5], Loss: 0.0838\n",
            "Epoch [5/5], Loss: 0.0685\n",
            "Test accuracy: 97.20%\n",
            "Model 2 (ConvFCNN):\n",
            "Epoch [1/5], Loss: 0.2437\n",
            "Epoch [2/5], Loss: 0.0539\n",
            "Epoch [3/5], Loss: 0.0357\n",
            "Epoch [4/5], Loss: 0.0276\n",
            "Epoch [5/5], Loss: 0.0221\n",
            "Test accuracy: 98.98%\n",
            "Model 3 (ConvOnly):\n",
            "Epoch [1/5], Loss: 1.3296\n",
            "Epoch [2/5], Loss: 0.3790\n",
            "Epoch [3/5], Loss: 0.2250\n",
            "Epoch [4/5], Loss: 0.1793\n",
            "Epoch [5/5], Loss: 0.1479\n",
            "Test accuracy: 95.81%\n"
          ]
        }
      ],
      "source": [
        "# Train the models fully and evaluate them on the test set\n",
        "def train_and_evaluate(model_class, train_loader, test_loader, num_epochs=5):\n",
        "    model = model_class()\n",
        "    criterion = nn.CrossEntropyLoss()\n",
        "    optimizer = optim.SGD(model.parameters(), lr=0.01, momentum=0.9)\n",
        "\n",
        "    # Train the model\n",
        "    train_model(model, train_loader, criterion, optimizer, num_epochs)\n",
        "\n",
        "    # Evaluate the model\n",
        "    test_accuracy = evaluate_model(model, test_loader)\n",
        "    print(f'Test accuracy: {test_accuracy:.2f}%')\n",
        "    return test_accuracy\n",
        "\n",
        "print(\"Final Evaluation on Test Set\")\n",
        "\n",
        "print(\"Model 1 (FCNN):\")\n",
        "fcnn_test_accuracy = train_and_evaluate(FCNN, train_loader, test_loader)\n",
        "\n",
        "print(\"Model 2 (ConvFCNN):\")\n",
        "convfcnn_test_accuracy = train_and_evaluate(ConvFCNN, train_loader, test_loader)\n",
        "\n",
        "print(\"Model 3 (ConvOnly):\")\n",
        "convonly_test_accuracy = train_and_evaluate(ConvOnly, train_loader, test_loader)\n"
      ]
    }
  ],
  "metadata": {
    "colab": {
      "provenance": [],
      "gpuType": "T4",
      "toc_visible": true,
      "include_colab_link": true
    },
    "kernelspec": {
      "display_name": "Python 3",
      "name": "python3"
    },
    "language_info": {
      "name": "python"
    },
    "accelerator": "GPU"
  },
  "nbformat": 4,
  "nbformat_minor": 0
}